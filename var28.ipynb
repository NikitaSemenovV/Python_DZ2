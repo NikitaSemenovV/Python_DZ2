{
 "cells": [
  {
   "cell_type": "code",
   "execution_count": 14,
   "metadata": {
    "pycharm": {
     "name": "#%%\n"
    }
   },
   "outputs": [],
   "source": [
    "import pandas as pd\n",
    "import matplotlib.pyplot as plt"
   ]
  },
  {
   "cell_type": "code",
   "execution_count": 15,
   "metadata": {
    "pycharm": {
     "name": "#%%\n"
    }
   },
   "outputs": [
    {
     "data": {
      "text/html": [
       "<div>\n",
       "<style scoped>\n",
       "    .dataframe tbody tr th:only-of-type {\n",
       "        vertical-align: middle;\n",
       "    }\n",
       "\n",
       "    .dataframe tbody tr th {\n",
       "        vertical-align: top;\n",
       "    }\n",
       "\n",
       "    .dataframe thead th {\n",
       "        text-align: right;\n",
       "    }\n",
       "</style>\n",
       "<table border=\"1\" class=\"dataframe\">\n",
       "  <thead>\n",
       "    <tr style=\"text-align: right;\">\n",
       "      <th></th>\n",
       "      <th>hcnpx</th>\n",
       "      <th>tdoov</th>\n",
       "      <th>bctmo</th>\n",
       "    </tr>\n",
       "  </thead>\n",
       "  <tbody>\n",
       "    <tr>\n",
       "      <th>0</th>\n",
       "      <td>15.968278</td>\n",
       "      <td>7.004007</td>\n",
       "      <td>10.428599</td>\n",
       "    </tr>\n",
       "    <tr>\n",
       "      <th>1</th>\n",
       "      <td>12.442895</td>\n",
       "      <td>19.113289</td>\n",
       "      <td>7.246264</td>\n",
       "    </tr>\n",
       "    <tr>\n",
       "      <th>2</th>\n",
       "      <td>19.562354</td>\n",
       "      <td>19.004838</td>\n",
       "      <td>20.695251</td>\n",
       "    </tr>\n",
       "    <tr>\n",
       "      <th>3</th>\n",
       "      <td>8.795380</td>\n",
       "      <td>5.529790</td>\n",
       "      <td>13.183946</td>\n",
       "    </tr>\n",
       "    <tr>\n",
       "      <th>4</th>\n",
       "      <td>17.609317</td>\n",
       "      <td>16.272937</td>\n",
       "      <td>19.535026</td>\n",
       "    </tr>\n",
       "  </tbody>\n",
       "</table>\n",
       "</div>"
      ],
      "text/plain": [
       "       hcnpx      tdoov      bctmo\n",
       "0  15.968278   7.004007  10.428599\n",
       "1  12.442895  19.113289   7.246264\n",
       "2  19.562354  19.004838  20.695251\n",
       "3   8.795380   5.529790  13.183946\n",
       "4  17.609317  16.272937  19.535026"
      ]
     },
     "execution_count": 15,
     "metadata": {},
     "output_type": "execute_result"
    }
   ],
   "source": [
    "data = pd.read_json('var28.jsn')\n",
    "data.head()"
   ]
  },
  {
   "cell_type": "code",
   "execution_count": 16,
   "metadata": {
    "pycharm": {
     "name": "#%%\n"
    }
   },
   "outputs": [
    {
     "name": "stdout",
     "output_type": "stream",
     "text": [
      "12.9611 12.9528 668.1102\n",
      "11.8429 15.3449 485.2494\n",
      "13.5547 16.5755 508.1560\n"
     ]
    }
   ],
   "source": [
    "# Найти среднее и дисперсию каждого столбца (медиана, среднее и дисперсия)\n",
    "print(\"{:.4f} {:.4f} {:.4f}\".format(data['hcnpx'].median(), data['hcnpx'].mean(), data['hcnpx'].var()))\n",
    "print(\"{:.4f} {:.4f} {:.4f}\".format(data['tdoov'].median(), data['tdoov'].mean(), data['tdoov'].var()))\n",
    "print(\"{:.4f} {:.4f} {:.4f}\".format(data['bctmo'].median(), data['bctmo'].mean(), data['bctmo'].var()))"
   ]
  },
  {
   "cell_type": "code",
   "execution_count": 17,
   "metadata": {
    "pycharm": {
     "name": "#%%\n"
    }
   },
   "outputs": [
    {
     "data": {
      "text/plain": [
       "<AxesSubplot:xlabel='hcnpx', ylabel='tdoov'>"
      ]
     },
     "execution_count": 17,
     "metadata": {},
     "output_type": "execute_result"
    },
    {
     "data": {
      "image/png": "[encoded data removed]",
      "text/plain": [
       "<Figure size 432x288 with 1 Axes>"
      ]
     },
     "metadata": {
      "needs_background": "light"
     },
     "output_type": "display_data"
    }
   ],
   "source": [
    "#Визуализировать датасет любым удобным способом. Можно несколькими графиками\n",
    "#Построить графики для каждой пары признаков в наборе данных\n",
    "data.plot(x=\"hcnpx\", y=\"tdoov\", kind=\"scatter\")"
   ]
  },
  {
   "cell_type": "code",
   "execution_count": 18,
   "metadata": {
    "pycharm": {
     "name": "#%%\n"
    }
   },
   "outputs": [
    {
     "data": {
      "text/plain": [
       "<AxesSubplot:xlabel='hcnpx', ylabel='bctmo'>"
      ]
     },
     "execution_count": 18,
     "metadata": {},
     "output_type": "execute_result"
    },
    {
     "data": {
      "image/png": "[encoded data removed]",
      "text/plain": [
       "<Figure size 432x288 with 1 Axes>"
      ]
     },
     "metadata": {
      "needs_background": "light"
     },
     "output_type": "display_data"
    }
   ],
   "source": [
    "\n",
    "data.plot(x=\"hcnpx\", y=\"bctmo\", kind=\"scatter\")"
   ]
  },
  {
   "cell_type": "code",
   "execution_count": 19,
   "metadata": {
    "pycharm": {
     "name": "#%%\n"
    }
   },
   "outputs": [
    {
     "data": {
      "text/plain": [
       "[<matplotlib.lines.Line2D at 0xd43c3a0>]"
      ]
     },
     "execution_count": 19,
     "metadata": {},
     "output_type": "execute_result"
    },
    {
     "data": {
      "image/png": "[encoded data removed]",
      "text/plain": [
       "<Figure size 432x288 with 1 Axes>"
      ]
     },
     "metadata": {
      "needs_background": "light"
     },
     "output_type": "display_data"
    }
   ],
   "source": [
    "plt.plot(data['hcnpx'], data['tdoov'])"
   ]
  },
  {
   "cell_type": "code",
   "execution_count": 20,
   "metadata": {
    "pycharm": {
     "name": "#%%\n"
    }
   },
   "outputs": [
    {
     "data": {
      "text/plain": [
       "[<matplotlib.lines.Line2D at 0xd476268>]"
      ]
     },
     "execution_count": 20,
     "metadata": {},
     "output_type": "execute_result"
    },
    {
     "data": {
      "image/png": "[encoded data removed]",
      "text/plain": [
       "<Figure size 432x288 with 1 Axes>"
      ]
     },
     "metadata": {
      "needs_background": "light"
     },
     "output_type": "display_data"
    }
   ],
   "source": [
    "\n",
    "plt.plot(data['hcnpx'], data['bctmo'])"
   ]
  },
  {
   "cell_type": "code",
   "execution_count": 21,
   "metadata": {
    "pycharm": {
     "name": "#%%\n"
    }
   },
   "outputs": [
    {
     "data": {
      "text/plain": [
       "[<matplotlib.lines.Line2D at 0xd4af1c0>]"
      ]
     },
     "execution_count": 21,
     "metadata": {},
     "output_type": "execute_result"
    },
    {
     "data": {
      "image/png": "[encoded data removed]",
      "text/plain": [
       "<Figure size 432x288 with 1 Axes>"
      ]
     },
     "metadata": {
      "needs_background": "light"
     },
     "output_type": "display_data"
    }
   ],
   "source": [
    "\n",
    "plt.plot(data['bctmo'], data['tdoov'])"
   ]
  },
  {
   "cell_type": "code",
   "execution_count": 22,
   "metadata": {
    "pycharm": {
     "name": "#%%\n"
    }
   },
   "outputs": [
    {
     "data": {
      "text/plain": [
       "(array([0.02425058, 0.        , 0.        , 0.00024745, 0.00024745]),\n",
       " array([ -4.7226906 ,  35.68872168,  76.10013395, 116.51154622,\n",
       "        156.92295849, 197.33437077]),\n",
       " <BarContainer object of 5 artists>)"
      ]
     },
     "execution_count": 22,
     "metadata": {},
     "output_type": "execute_result"
    },
    {
     "data": {
      "image/png": "[encoded data removed]",
      "text/plain": [
       "<Figure size 432x288 with 1 Axes>"
      ]
     },
     "metadata": {
      "needs_background": "light"
     },
     "output_type": "display_data"
    }
   ],
   "source": [
    "#Построить гистограмму каждого из признаков.\n",
    "plt.hist(data['hcnpx'], density= 1, bins=5)\n",
    "plt.hist(data['tdoov'], density= 1, bins=5)\n",
    "plt.hist(data['bctmo'], density= 1, bins=5)"
   ]
  },
  {
   "cell_type": "code",
   "execution_count": 23,
   "metadata": {
    "pycharm": {
     "name": "#%%\n"
    }
   },
   "outputs": [
    {
     "name": "stderr",
     "output_type": "stream",
     "text": [
      "<ipython-input-23-d8b656b1a47e>:3: UserWarning: Boolean Series key will be reindexed to match DataFrame index.\n",
      "  cdata = cdata[(data['tdoov'] > -5) & (data['tdoov'] < 50)]\n",
      "<ipython-input-23-d8b656b1a47e>:4: UserWarning: Boolean Series key will be reindexed to match DataFrame index.\n",
      "  cdata = cdata[(data['bctmo'] < 50)]\n"
     ]
    }
   ],
   "source": [
    "#Найти выбросы. Удалить их\n",
    "cdata = data[(data['hcnpx'] > -5) & (data['hcnpx'] < 50)]\n",
    "cdata = cdata[(data['tdoov'] > -5) & (data['tdoov'] < 50)]\n",
    "cdata = cdata[(data['bctmo'] < 50)]"
   ]
  },
  {
   "cell_type": "code",
   "execution_count": 24,
   "metadata": {
    "pycharm": {
     "name": "#%%\n"
    }
   },
   "outputs": [
    {
     "name": "stdout",
     "output_type": "stream",
     "text": [
      "12.9611 12.5747 47.2163\n",
      "11.8429 12.6755 41.0955\n",
      "13.5547 13.6255 36.9365\n"
     ]
    }
   ],
   "source": [
    "#Найти новые средние и дисперсии, сравнить со старыми.\n",
    "print(\"{:.4f} {:.4f} {:.4f}\".format(cdata['hcnpx'].median(), cdata['hcnpx'].mean(), cdata['hcnpx'].var()))\n",
    "print(\"{:.4f} {:.4f} {:.4f}\".format(cdata['tdoov'].median(), cdata['tdoov'].mean(), cdata['tdoov'].var()))\n",
    "print(\"{:.4f} {:.4f} {:.4f}\".format(cdata['bctmo'].median(), cdata['bctmo'].mean(), cdata['bctmo'].var()))"
   ]
  },
  {
   "cell_type": "code",
   "execution_count": 26,
   "metadata": {
    "pycharm": {
     "name": "#%%\n"
    }
   },
   "outputs": [
    {
     "data": {
      "text/plain": [
       "(array([0.02148232, 0.16111741, 0.33297599, 0.31149367, 0.16111741]),\n",
       " array([-3.01901323, -2.00705881, -0.9951044 ,  0.01685002,  1.02880443,\n",
       "         2.04075885]),\n",
       " <BarContainer object of 5 artists>)"
      ]
     },
     "execution_count": 26,
     "metadata": {},
     "output_type": "execute_result"
    },
    {
     "data": {
      "image/png": "[encoded data removed]",
      "text/plain": [
       "<Figure size 432x288 with 1 Axes>"
      ]
     },
     "metadata": {
      "needs_background": "light"
     },
     "output_type": "display_data"
    }
   ],
   "source": [
    "#Нормализовать данные по среднему и дисперсии.\n",
    "cdata2 = cdata\n",
    "\n",
    "cdata['hcnpx'] = (cdata['hcnpx'] - cdata['hcnpx'].mean()) / cdata['hcnpx'].std()\n",
    "cdata['tdoov'] = (cdata['tdoov'] - cdata['tdoov'].mean()) / cdata['tdoov'].std()\n",
    "cdata['bctmo'] = (cdata['bctmo'] - cdata['bctmo'].mean()) / cdata['bctmo'].std()\n",
    "plt.hist(cdata['hcnpx'], density= 1, bins=5)\n",
    "plt.hist(cdata['tdoov'], density= 1, bins=5)\n",
    "plt.hist(cdata['bctmo'], density= 1, bins=5)"
   ]
  },
  {
   "cell_type": "code",
   "execution_count": 27,
   "metadata": {
    "pycharm": {
     "name": "#%%\n"
    }
   },
   "outputs": [
    {
     "data": {
      "text/plain": [
       "(array([0.02148232, 0.16111741, 0.33297599, 0.31149367, 0.16111741]),\n",
       " array([-4.01901323, -3.00705881, -1.9951044 , -0.98314998,  0.02880443,\n",
       "         1.04075885]),\n",
       " <BarContainer object of 5 artists>)"
      ]
     },
     "execution_count": 27,
     "metadata": {},
     "output_type": "execute_result"
    },
    {
     "data": {
      "image/png": "[encoded data removed]",
      "text/plain": [
       "<Figure size 432x288 with 1 Axes>"
      ]
     },
     "metadata": {
      "needs_background": "light"
     },
     "output_type": "display_data"
    }
   ],
   "source": [
    "cdata2['hcnpx'] = (cdata2['hcnpx'] - cdata2['hcnpx'].var()) / cdata2['hcnpx'].std()\n",
    "cdata2['tdoov'] = (cdata2['tdoov'] - cdata2['tdoov'].var()) / cdata2['tdoov'].std()\n",
    "cdata2['bctmo'] = (cdata2['bctmo'] - cdata2['bctmo'].var()) / cdata2['bctmo'].std()\n",
    "plt.hist(cdata2['hcnpx'], density= 1, bins=5)\n",
    "plt.hist(cdata2['tdoov'], density= 1, bins=5)\n",
    "plt.hist(cdata2['bctmo'], density= 1, bins=5)\n"
   ]
  },
  {
   "cell_type": "code",
   "execution_count": null,
   "metadata": {},
   "outputs": [],
   "source": []
  },
  {
   "cell_type": "code",
   "execution_count": null,
   "metadata": {},
   "outputs": [],
   "source": []
  }
 ],
 "metadata": {
  "kernelspec": {
   "display_name": "Python 3",
   "language": "python",
   "name": "python3"
  },
  "language_info": {
   "codemirror_mode": {
    "name": "ipython",
    "version": 3
   },
   "file_extension": ".py",
   "mimetype": "text/x-python",
   "name": "python",
   "nbconvert_exporter": "python",
   "pygments_lexer": "ipython3",
   "version": "3.8.5"
  }
 },
 "nbformat": 4,
 "nbformat_minor": 1
}
